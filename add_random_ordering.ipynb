{
 "cells": [
  {
   "cell_type": "code",
   "execution_count": 1,
   "id": "5ad6c0cd",
   "metadata": {},
   "outputs": [],
   "source": [
    "import pandas as pd"
   ]
  },
  {
   "cell_type": "code",
   "execution_count": 2,
   "id": "e33b81ba",
   "metadata": {},
   "outputs": [],
   "source": [
    "ave_df = pd.read_csv('AVE_pairs_with_participants.csv')\n",
    "ave_df['dataset'] = 'AVE'\n",
    "\n",
    "pse_df = pd.read_csv('PSE_pairs_with_participants.csv')\n",
    "pse_df['dataset'] = 'PSE'\n",
    "\n",
    "participant_videos = pd.concat([ave_df, pse_df])\n"
   ]
  },
  {
   "cell_type": "code",
   "execution_count": 4,
   "id": "f2eba114",
   "metadata": {},
   "outputs": [],
   "source": [
    "import random"
   ]
  },
  {
   "cell_type": "code",
   "execution_count": 10,
   "id": "56d8d608",
   "metadata": {},
   "outputs": [],
   "source": [
    "vid_choice = [random.choice([1,2]) for i in range(len(participant_videos))]"
   ]
  },
  {
   "cell_type": "code",
   "execution_count": 24,
   "id": "be3ffe9a",
   "metadata": {},
   "outputs": [],
   "source": [
    "first_vid_ids = []\n",
    "second_vid_ids = []\n",
    "\n",
    "first_vid_uid = []\n",
    "second_vid_uid = []\n",
    "\n",
    "for i,f in enumerate(vid_choice):\n",
    "    ours_vname = participant_videos.iloc[i].ours_video_path.replace('final_sampled_400', f'final_sampled_400_{participant_videos.iloc[i].dataset}')\n",
    "    w2c_vname = participant_videos.iloc[i].w2c_video_path.replace('final_sampled_400', f'final_sampled_400_{participant_videos.iloc[i].dataset}')\n",
    "    \n",
    "    if f == 1:\n",
    "        first_vid_ids.append(ours_vname)\n",
    "        second_vid_ids.append(w2c_vname)\n",
    "        \n",
    "        first_vid_uid.append(participant_videos.iloc[i].ours_rand_uid)\n",
    "        second_vid_uid.append(participant_videos.iloc[i].w2c_rand_uid)\n",
    "    else:\n",
    "        first_vid_ids.append(w2c_vname)\n",
    "        second_vid_ids.append(ours_vname)\n",
    "        \n",
    "        first_vid_uid.append(participant_videos.iloc[i].w2c_rand_uid)\n",
    "        second_vid_uid.append(participant_videos.iloc[i].ours_rand_uid)\n",
    "        "
   ]
  },
  {
   "cell_type": "code",
   "execution_count": 25,
   "id": "1e5d326e",
   "metadata": {},
   "outputs": [],
   "source": [
    "participant_videos['first_video_path'] = first_vid_ids\n",
    "participant_videos['second_video_path'] = second_vid_ids\n",
    "\n",
    "participant_videos['first_video_uid'] = first_vid_uid\n",
    "participant_videos['second_video_uid'] = second_vid_uid\n"
   ]
  },
  {
   "cell_type": "code",
   "execution_count": 29,
   "id": "d7fdea1a",
   "metadata": {},
   "outputs": [
    {
     "data": {
      "text/html": [
       "<div>\n",
       "<style scoped>\n",
       "    .dataframe tbody tr th:only-of-type {\n",
       "        vertical-align: middle;\n",
       "    }\n",
       "\n",
       "    .dataframe tbody tr th {\n",
       "        vertical-align: top;\n",
       "    }\n",
       "\n",
       "    .dataframe thead th {\n",
       "        text-align: right;\n",
       "    }\n",
       "</style>\n",
       "<table border=\"1\" class=\"dataframe\">\n",
       "  <thead>\n",
       "    <tr style=\"text-align: right;\">\n",
       "      <th></th>\n",
       "      <th>img_fpath</th>\n",
       "      <th>ours_top_AVE_audio_fpath</th>\n",
       "      <th>w2c_top_AVE_audio_fpath</th>\n",
       "      <th>category</th>\n",
       "      <th>participant</th>\n",
       "      <th>ours_video_path</th>\n",
       "      <th>w2c_video_path</th>\n",
       "      <th>ours_rand_uid</th>\n",
       "      <th>w2c_rand_uid</th>\n",
       "      <th>dataset</th>\n",
       "      <th>ours_top_PSE_audio_fpath</th>\n",
       "      <th>w2c_top_PSE_audio_fpath</th>\n",
       "      <th>first_video_path</th>\n",
       "      <th>second_video_path</th>\n",
       "      <th>first_video_uid</th>\n",
       "      <th>second_video_uid</th>\n",
       "    </tr>\n",
       "  </thead>\n",
       "  <tbody>\n",
       "    <tr>\n",
       "      <th>0</th>\n",
       "      <td>AVE_Filtered_NoSpeechMusic/center_frames_of_AV...</td>\n",
       "      <td>AVE_Filtered_NoSpeechMusic/audio/6Hz2So8JxHE.wav</td>\n",
       "      <td>AVE_Filtered_NoSpeechMusic/audio/1iUXERALOOs.wav</td>\n",
       "      <td>Train horn</td>\n",
       "      <td>P1</td>\n",
       "      <td>final_sampled_400/ours/1PaQmRw_VIs_f5_ours.mp4</td>\n",
       "      <td>final_sampled_400/w2c_baseline/1PaQmRw_VIs_f5_...</td>\n",
       "      <td>07092631-9973-4320-bd1a-3c0e3ebd6531</td>\n",
       "      <td>2928f732-451b-4c3f-8885-95e5bceba4fa</td>\n",
       "      <td>AVE</td>\n",
       "      <td>NaN</td>\n",
       "      <td>NaN</td>\n",
       "      <td>final_sampled_400_AVE/w2c_baseline/1PaQmRw_VIs...</td>\n",
       "      <td>final_sampled_400_AVE/ours/1PaQmRw_VIs_f5_ours...</td>\n",
       "      <td>2928f732-451b-4c3f-8885-95e5bceba4fa</td>\n",
       "      <td>07092631-9973-4320-bd1a-3c0e3ebd6531</td>\n",
       "    </tr>\n",
       "    <tr>\n",
       "      <th>1</th>\n",
       "      <td>AVE_Filtered_NoSpeechMusic/center_frames_of_AV...</td>\n",
       "      <td>AVE_Filtered_NoSpeechMusic/audio/0R4uO4Vy9c0.wav</td>\n",
       "      <td>AVE_Filtered_NoSpeechMusic/audio/4RhARbjonAQ.wav</td>\n",
       "      <td>Cat</td>\n",
       "      <td>P2</td>\n",
       "      <td>final_sampled_400/ours/-W9N8xqohLA_f7_ours.mp4</td>\n",
       "      <td>final_sampled_400/w2c_baseline/-W9N8xqohLA_f7_...</td>\n",
       "      <td>ec9a4806-dd2c-4b2f-ac73-7c791b669a2e</td>\n",
       "      <td>0bf777f0-eed2-4eeb-94e6-51e447be1c68</td>\n",
       "      <td>AVE</td>\n",
       "      <td>NaN</td>\n",
       "      <td>NaN</td>\n",
       "      <td>final_sampled_400_AVE/w2c_baseline/-W9N8xqohLA...</td>\n",
       "      <td>final_sampled_400_AVE/ours/-W9N8xqohLA_f7_ours...</td>\n",
       "      <td>0bf777f0-eed2-4eeb-94e6-51e447be1c68</td>\n",
       "      <td>ec9a4806-dd2c-4b2f-ac73-7c791b669a2e</td>\n",
       "    </tr>\n",
       "    <tr>\n",
       "      <th>2</th>\n",
       "      <td>AVE_Filtered_NoSpeechMusic/center_frames_of_AV...</td>\n",
       "      <td>AVE_Filtered_NoSpeechMusic/audio/-Mn3laA2KZc.wav</td>\n",
       "      <td>AVE_Filtered_NoSpeechMusic/audio/-IKMo9-20Zc.wav</td>\n",
       "      <td>Race car, auto racing</td>\n",
       "      <td>P3</td>\n",
       "      <td>final_sampled_400/ours/3Y5XYAlo4ME_f5_ours.mp4</td>\n",
       "      <td>final_sampled_400/w2c_baseline/3Y5XYAlo4ME_f5_...</td>\n",
       "      <td>807e513f-66b4-4936-813d-857e68430035</td>\n",
       "      <td>ea84d1c9-3a6c-4a58-aa60-4ccc871a766f</td>\n",
       "      <td>AVE</td>\n",
       "      <td>NaN</td>\n",
       "      <td>NaN</td>\n",
       "      <td>final_sampled_400_AVE/w2c_baseline/3Y5XYAlo4ME...</td>\n",
       "      <td>final_sampled_400_AVE/ours/3Y5XYAlo4ME_f5_ours...</td>\n",
       "      <td>ea84d1c9-3a6c-4a58-aa60-4ccc871a766f</td>\n",
       "      <td>807e513f-66b4-4936-813d-857e68430035</td>\n",
       "    </tr>\n",
       "    <tr>\n",
       "      <th>3</th>\n",
       "      <td>AVE_Filtered_NoSpeechMusic/center_frames_of_AV...</td>\n",
       "      <td>AVE_Filtered_NoSpeechMusic/audio/15w5MOkhlZI.wav</td>\n",
       "      <td>AVE_Filtered_NoSpeechMusic/audio/-IKMo9-20Zc.wav</td>\n",
       "      <td>Bus</td>\n",
       "      <td>P4</td>\n",
       "      <td>final_sampled_400/ours/1vFbsn6XfMI_f5_ours.mp4</td>\n",
       "      <td>final_sampled_400/w2c_baseline/1vFbsn6XfMI_f5_...</td>\n",
       "      <td>71fc0cc2-f946-4f41-8344-fa58bb6b6373</td>\n",
       "      <td>100eb1a2-15a5-4d2d-b209-2bc8085e3688</td>\n",
       "      <td>AVE</td>\n",
       "      <td>NaN</td>\n",
       "      <td>NaN</td>\n",
       "      <td>final_sampled_400_AVE/ours/1vFbsn6XfMI_f5_ours...</td>\n",
       "      <td>final_sampled_400_AVE/w2c_baseline/1vFbsn6XfMI...</td>\n",
       "      <td>71fc0cc2-f946-4f41-8344-fa58bb6b6373</td>\n",
       "      <td>100eb1a2-15a5-4d2d-b209-2bc8085e3688</td>\n",
       "    </tr>\n",
       "  </tbody>\n",
       "</table>\n",
       "</div>"
      ],
      "text/plain": [
       "                                           img_fpath  \\\n",
       "0  AVE_Filtered_NoSpeechMusic/center_frames_of_AV...   \n",
       "1  AVE_Filtered_NoSpeechMusic/center_frames_of_AV...   \n",
       "2  AVE_Filtered_NoSpeechMusic/center_frames_of_AV...   \n",
       "3  AVE_Filtered_NoSpeechMusic/center_frames_of_AV...   \n",
       "\n",
       "                           ours_top_AVE_audio_fpath  \\\n",
       "0  AVE_Filtered_NoSpeechMusic/audio/6Hz2So8JxHE.wav   \n",
       "1  AVE_Filtered_NoSpeechMusic/audio/0R4uO4Vy9c0.wav   \n",
       "2  AVE_Filtered_NoSpeechMusic/audio/-Mn3laA2KZc.wav   \n",
       "3  AVE_Filtered_NoSpeechMusic/audio/15w5MOkhlZI.wav   \n",
       "\n",
       "                            w2c_top_AVE_audio_fpath               category  \\\n",
       "0  AVE_Filtered_NoSpeechMusic/audio/1iUXERALOOs.wav             Train horn   \n",
       "1  AVE_Filtered_NoSpeechMusic/audio/4RhARbjonAQ.wav                    Cat   \n",
       "2  AVE_Filtered_NoSpeechMusic/audio/-IKMo9-20Zc.wav  Race car, auto racing   \n",
       "3  AVE_Filtered_NoSpeechMusic/audio/-IKMo9-20Zc.wav                    Bus   \n",
       "\n",
       "  participant                                 ours_video_path  \\\n",
       "0          P1  final_sampled_400/ours/1PaQmRw_VIs_f5_ours.mp4   \n",
       "1          P2  final_sampled_400/ours/-W9N8xqohLA_f7_ours.mp4   \n",
       "2          P3  final_sampled_400/ours/3Y5XYAlo4ME_f5_ours.mp4   \n",
       "3          P4  final_sampled_400/ours/1vFbsn6XfMI_f5_ours.mp4   \n",
       "\n",
       "                                      w2c_video_path  \\\n",
       "0  final_sampled_400/w2c_baseline/1PaQmRw_VIs_f5_...   \n",
       "1  final_sampled_400/w2c_baseline/-W9N8xqohLA_f7_...   \n",
       "2  final_sampled_400/w2c_baseline/3Y5XYAlo4ME_f5_...   \n",
       "3  final_sampled_400/w2c_baseline/1vFbsn6XfMI_f5_...   \n",
       "\n",
       "                          ours_rand_uid                          w2c_rand_uid  \\\n",
       "0  07092631-9973-4320-bd1a-3c0e3ebd6531  2928f732-451b-4c3f-8885-95e5bceba4fa   \n",
       "1  ec9a4806-dd2c-4b2f-ac73-7c791b669a2e  0bf777f0-eed2-4eeb-94e6-51e447be1c68   \n",
       "2  807e513f-66b4-4936-813d-857e68430035  ea84d1c9-3a6c-4a58-aa60-4ccc871a766f   \n",
       "3  71fc0cc2-f946-4f41-8344-fa58bb6b6373  100eb1a2-15a5-4d2d-b209-2bc8085e3688   \n",
       "\n",
       "  dataset ours_top_PSE_audio_fpath w2c_top_PSE_audio_fpath  \\\n",
       "0     AVE                      NaN                     NaN   \n",
       "1     AVE                      NaN                     NaN   \n",
       "2     AVE                      NaN                     NaN   \n",
       "3     AVE                      NaN                     NaN   \n",
       "\n",
       "                                    first_video_path  \\\n",
       "0  final_sampled_400_AVE/w2c_baseline/1PaQmRw_VIs...   \n",
       "1  final_sampled_400_AVE/w2c_baseline/-W9N8xqohLA...   \n",
       "2  final_sampled_400_AVE/w2c_baseline/3Y5XYAlo4ME...   \n",
       "3  final_sampled_400_AVE/ours/1vFbsn6XfMI_f5_ours...   \n",
       "\n",
       "                                   second_video_path  \\\n",
       "0  final_sampled_400_AVE/ours/1PaQmRw_VIs_f5_ours...   \n",
       "1  final_sampled_400_AVE/ours/-W9N8xqohLA_f7_ours...   \n",
       "2  final_sampled_400_AVE/ours/3Y5XYAlo4ME_f5_ours...   \n",
       "3  final_sampled_400_AVE/w2c_baseline/1vFbsn6XfMI...   \n",
       "\n",
       "                        first_video_uid                      second_video_uid  \n",
       "0  2928f732-451b-4c3f-8885-95e5bceba4fa  07092631-9973-4320-bd1a-3c0e3ebd6531  \n",
       "1  0bf777f0-eed2-4eeb-94e6-51e447be1c68  ec9a4806-dd2c-4b2f-ac73-7c791b669a2e  \n",
       "2  ea84d1c9-3a6c-4a58-aa60-4ccc871a766f  807e513f-66b4-4936-813d-857e68430035  \n",
       "3  71fc0cc2-f946-4f41-8344-fa58bb6b6373  100eb1a2-15a5-4d2d-b209-2bc8085e3688  "
      ]
     },
     "execution_count": 29,
     "metadata": {},
     "output_type": "execute_result"
    }
   ],
   "source": [
    "participant_videos.head(4)"
   ]
  },
  {
   "cell_type": "code",
   "execution_count": 30,
   "id": "c271cdb6",
   "metadata": {},
   "outputs": [],
   "source": [
    "participant_videos.to_csv('participant_videos_random_order.csv', index=False)"
   ]
  },
  {
   "cell_type": "code",
   "execution_count": 32,
   "id": "404b36cb",
   "metadata": {},
   "outputs": [],
   "source": [
    "import json"
   ]
  },
  {
   "cell_type": "code",
   "execution_count": 33,
   "id": "25081a1e",
   "metadata": {},
   "outputs": [],
   "source": [
    "with open('sound_user_survey_results.json') as json_file:\n",
    "    data = json.load(json_file)"
   ]
  },
  {
   "cell_type": "code",
   "execution_count": 67,
   "id": "82876b00",
   "metadata": {},
   "outputs": [],
   "source": [
    "row = gt[(gt['first_video_uid'] == v1_id) & (gt['second_video_uid'] == v2_id)]"
   ]
  },
  {
   "cell_type": "code",
   "execution_count": null,
   "id": "08ed89a1",
   "metadata": {},
   "outputs": [],
   "source": []
  },
  {
   "cell_type": "code",
   "execution_count": 69,
   "id": "76e429d1",
   "metadata": {},
   "outputs": [
    {
     "name": "stdout",
     "output_type": "stream",
     "text": [
      "8e83b7d8-0faa-4c35-ac1a-d34ae51f3a3c\n",
      "afe75a39-7fe7-43da-a08e-1eeef3df49a1\n",
      "they didnt answer a question\n"
     ]
    }
   ],
   "source": [
    "for k,v in data.items():\n",
    "    v1_id = v['widget_key'].split('__')[-1].split('_')[2][5:]\n",
    "    v2_id = v['widget_key'].split('__')[-1].split('_')[3][5:]\n",
    "    response = v['value']\n",
    "    print(v1_id)\n",
    "    print(v2_id)\n",
    "    row = gt[(gt['first_video_uid'] == v1_id) & (gt['second_video_uid'] == v2_id)]\n",
    "    if len(row)>1:\n",
    "        raise ValueError('problem')\n",
    "    \n",
    "    row = row.iloc[0]\n",
    "    \n",
    "    if v1_id == row['ours_rand_uid']:\n",
    "        first_vid_label = 'ours'\n",
    "    elif v1_id == row['w2c_rand_uid']:\n",
    "        first_vid_label = 'w2c'\n",
    "    else:\n",
    "        print('we have a problem')\n",
    "    \n",
    "    if v2_id == row['ours_rand_uid']:\n",
    "        sec_vid_label = 'ours'\n",
    "    elif v2_id == row['w2c_rand_uid']:\n",
    "        sec_vid_label = 'w2c'\n",
    "    else:\n",
    "        print('problem')\n",
    "    \n",
    "    if response == 'Video 1':\n",
    "        if first_vid_label == 'ours':\n",
    "            winner = 'ours'\n",
    "        elif first_vid_label == 'w2c':\n",
    "            winner = 'w2c'\n",
    "            \n",
    "    elif response == 'Video 2':\n",
    "        if sec_vid_label == 'ours':\n",
    "            winner = 'ours'\n",
    "        elif sect_vid_label == 'w2c':\n",
    "            winner = 'w2c'\n",
    "    else:\n",
    "        print('they didnt answer a question')\n",
    "        \n",
    " \n",
    "        \n",
    "    \n",
    "    break"
   ]
  },
  {
   "cell_type": "code",
   "execution_count": 62,
   "id": "6e9997d9",
   "metadata": {},
   "outputs": [
    {
     "data": {
      "text/plain": [
       "'8e83b7d8-0faa-4c35-ac1a-d34ae51f3a3c'"
      ]
     },
     "execution_count": 62,
     "metadata": {},
     "output_type": "execute_result"
    }
   ],
   "source": [
    "v1_id[5:]"
   ]
  },
  {
   "cell_type": "code",
   "execution_count": 59,
   "id": "bc12ced9",
   "metadata": {},
   "outputs": [
    {
     "data": {
      "text/html": [
       "<div>\n",
       "<style scoped>\n",
       "    .dataframe tbody tr th:only-of-type {\n",
       "        vertical-align: middle;\n",
       "    }\n",
       "\n",
       "    .dataframe tbody tr th {\n",
       "        vertical-align: top;\n",
       "    }\n",
       "\n",
       "    .dataframe thead th {\n",
       "        text-align: right;\n",
       "    }\n",
       "</style>\n",
       "<table border=\"1\" class=\"dataframe\">\n",
       "  <thead>\n",
       "    <tr style=\"text-align: right;\">\n",
       "      <th></th>\n",
       "      <th>img_fpath</th>\n",
       "      <th>ours_top_AVE_audio_fpath</th>\n",
       "      <th>w2c_top_AVE_audio_fpath</th>\n",
       "      <th>category</th>\n",
       "      <th>participant</th>\n",
       "      <th>ours_video_path</th>\n",
       "      <th>w2c_video_path</th>\n",
       "      <th>ours_rand_uid</th>\n",
       "      <th>w2c_rand_uid</th>\n",
       "      <th>dataset</th>\n",
       "      <th>ours_top_PSE_audio_fpath</th>\n",
       "      <th>w2c_top_PSE_audio_fpath</th>\n",
       "      <th>first_video_path</th>\n",
       "      <th>second_video_path</th>\n",
       "      <th>first_video_uid</th>\n",
       "      <th>second_video_uid</th>\n",
       "    </tr>\n",
       "  </thead>\n",
       "  <tbody>\n",
       "  </tbody>\n",
       "</table>\n",
       "</div>"
      ],
      "text/plain": [
       "Empty DataFrame\n",
       "Columns: [img_fpath, ours_top_AVE_audio_fpath, w2c_top_AVE_audio_fpath, category, participant, ours_video_path, w2c_video_path, ours_rand_uid, w2c_rand_uid, dataset, ours_top_PSE_audio_fpath, w2c_top_PSE_audio_fpath, first_video_path, second_video_path, first_video_uid, second_video_uid]\n",
       "Index: []"
      ]
     },
     "execution_count": 59,
     "metadata": {},
     "output_type": "execute_result"
    }
   ],
   "source": [
    "gt[(gt['first_video_uid'] == v1_id)]"
   ]
  },
  {
   "cell_type": "code",
   "execution_count": 64,
   "id": "a94a377a",
   "metadata": {},
   "outputs": [
    {
     "data": {
      "text/html": [
       "<div>\n",
       "<style scoped>\n",
       "    .dataframe tbody tr th:only-of-type {\n",
       "        vertical-align: middle;\n",
       "    }\n",
       "\n",
       "    .dataframe tbody tr th {\n",
       "        vertical-align: top;\n",
       "    }\n",
       "\n",
       "    .dataframe thead th {\n",
       "        text-align: right;\n",
       "    }\n",
       "</style>\n",
       "<table border=\"1\" class=\"dataframe\">\n",
       "  <thead>\n",
       "    <tr style=\"text-align: right;\">\n",
       "      <th></th>\n",
       "      <th>img_fpath</th>\n",
       "      <th>ours_top_AVE_audio_fpath</th>\n",
       "      <th>w2c_top_AVE_audio_fpath</th>\n",
       "      <th>category</th>\n",
       "      <th>participant</th>\n",
       "      <th>ours_video_path</th>\n",
       "      <th>w2c_video_path</th>\n",
       "      <th>ours_rand_uid</th>\n",
       "      <th>w2c_rand_uid</th>\n",
       "      <th>dataset</th>\n",
       "      <th>ours_top_PSE_audio_fpath</th>\n",
       "      <th>w2c_top_PSE_audio_fpath</th>\n",
       "      <th>first_video_path</th>\n",
       "      <th>second_video_path</th>\n",
       "      <th>first_video_uid</th>\n",
       "      <th>second_video_uid</th>\n",
       "    </tr>\n",
       "  </thead>\n",
       "  <tbody>\n",
       "  </tbody>\n",
       "</table>\n",
       "</div>"
      ],
      "text/plain": [
       "Empty DataFrame\n",
       "Columns: [img_fpath, ours_top_AVE_audio_fpath, w2c_top_AVE_audio_fpath, category, participant, ours_video_path, w2c_video_path, ours_rand_uid, w2c_rand_uid, dataset, ours_top_PSE_audio_fpath, w2c_top_PSE_audio_fpath, first_video_path, second_video_path, first_video_uid, second_video_uid]\n",
       "Index: []"
      ]
     },
     "execution_count": 64,
     "metadata": {},
     "output_type": "execute_result"
    }
   ],
   "source": [
    "gt[(gt['first_video_uid'] == v1_id[5:]) & (gt['second_video_uid'] == v2_id[5:])]\n",
    "\n"
   ]
  },
  {
   "cell_type": "code",
   "execution_count": 47,
   "id": "c01b2fec",
   "metadata": {},
   "outputs": [
    {
     "data": {
      "text/plain": [
       "'VID2=afe75a39-7fe7-43da-a08e-1eeef3df49a1'"
      ]
     },
     "execution_count": 47,
     "metadata": {},
     "output_type": "execute_result"
    }
   ],
   "source": [
    "a.split('__')[-1].split('_')[3]"
   ]
  },
  {
   "cell_type": "code",
   "execution_count": 41,
   "id": "e8b8a3a6",
   "metadata": {},
   "outputs": [],
   "source": [
    "gt = pd.read_csv('participant_videos_random_order.csv')"
   ]
  },
  {
   "cell_type": "code",
   "execution_count": 43,
   "id": "0358d539",
   "metadata": {},
   "outputs": [
    {
     "data": {
      "text/plain": [
       "800"
      ]
     },
     "execution_count": 43,
     "metadata": {},
     "output_type": "execute_result"
    }
   ],
   "source": [
    "len(gt)"
   ]
  },
  {
   "cell_type": "code",
   "execution_count": 44,
   "id": "fec2fcdb",
   "metadata": {},
   "outputs": [
    {
     "data": {
      "text/html": [
       "<div>\n",
       "<style scoped>\n",
       "    .dataframe tbody tr th:only-of-type {\n",
       "        vertical-align: middle;\n",
       "    }\n",
       "\n",
       "    .dataframe tbody tr th {\n",
       "        vertical-align: top;\n",
       "    }\n",
       "\n",
       "    .dataframe thead th {\n",
       "        text-align: right;\n",
       "    }\n",
       "</style>\n",
       "<table border=\"1\" class=\"dataframe\">\n",
       "  <thead>\n",
       "    <tr style=\"text-align: right;\">\n",
       "      <th></th>\n",
       "      <th>img_fpath</th>\n",
       "      <th>ours_top_AVE_audio_fpath</th>\n",
       "      <th>w2c_top_AVE_audio_fpath</th>\n",
       "      <th>category</th>\n",
       "      <th>participant</th>\n",
       "      <th>ours_video_path</th>\n",
       "      <th>w2c_video_path</th>\n",
       "      <th>ours_rand_uid</th>\n",
       "      <th>w2c_rand_uid</th>\n",
       "      <th>dataset</th>\n",
       "      <th>ours_top_PSE_audio_fpath</th>\n",
       "      <th>w2c_top_PSE_audio_fpath</th>\n",
       "      <th>first_video_path</th>\n",
       "      <th>second_video_path</th>\n",
       "      <th>first_video_uid</th>\n",
       "      <th>second_video_uid</th>\n",
       "    </tr>\n",
       "  </thead>\n",
       "  <tbody>\n",
       "    <tr>\n",
       "      <th>278</th>\n",
       "      <td>AVE_Filtered_NoSpeechMusic/center_frames_of_AV...</td>\n",
       "      <td>AVE_Filtered_NoSpeechMusic/audio/iHCnXCi1-Xg.wav</td>\n",
       "      <td>AVE_Filtered_NoSpeechMusic/audio/cfoJrTWCMeA.wav</td>\n",
       "      <td>Church bell</td>\n",
       "      <td>P19</td>\n",
       "      <td>final_sampled_400/ours/5hGZVNAzZ1U_f5_ours.mp4</td>\n",
       "      <td>final_sampled_400/w2c_baseline/5hGZVNAzZ1U_f5_...</td>\n",
       "      <td>afe75a39-7fe7-43da-a08e-1eeef3df49a1</td>\n",
       "      <td>8e83b7d8-0faa-4c35-ac1a-d34ae51f3a3c</td>\n",
       "      <td>AVE</td>\n",
       "      <td>NaN</td>\n",
       "      <td>NaN</td>\n",
       "      <td>final_sampled_400_AVE/w2c_baseline/5hGZVNAzZ1U...</td>\n",
       "      <td>final_sampled_400_AVE/ours/5hGZVNAzZ1U_f5_ours...</td>\n",
       "      <td>8e83b7d8-0faa-4c35-ac1a-d34ae51f3a3c</td>\n",
       "      <td>afe75a39-7fe7-43da-a08e-1eeef3df49a1</td>\n",
       "    </tr>\n",
       "  </tbody>\n",
       "</table>\n",
       "</div>"
      ],
      "text/plain": [
       "                                             img_fpath  \\\n",
       "278  AVE_Filtered_NoSpeechMusic/center_frames_of_AV...   \n",
       "\n",
       "                             ours_top_AVE_audio_fpath  \\\n",
       "278  AVE_Filtered_NoSpeechMusic/audio/iHCnXCi1-Xg.wav   \n",
       "\n",
       "                              w2c_top_AVE_audio_fpath     category  \\\n",
       "278  AVE_Filtered_NoSpeechMusic/audio/cfoJrTWCMeA.wav  Church bell   \n",
       "\n",
       "    participant                                 ours_video_path  \\\n",
       "278         P19  final_sampled_400/ours/5hGZVNAzZ1U_f5_ours.mp4   \n",
       "\n",
       "                                        w2c_video_path  \\\n",
       "278  final_sampled_400/w2c_baseline/5hGZVNAzZ1U_f5_...   \n",
       "\n",
       "                            ours_rand_uid  \\\n",
       "278  afe75a39-7fe7-43da-a08e-1eeef3df49a1   \n",
       "\n",
       "                             w2c_rand_uid dataset ours_top_PSE_audio_fpath  \\\n",
       "278  8e83b7d8-0faa-4c35-ac1a-d34ae51f3a3c     AVE                      NaN   \n",
       "\n",
       "    w2c_top_PSE_audio_fpath  \\\n",
       "278                     NaN   \n",
       "\n",
       "                                      first_video_path  \\\n",
       "278  final_sampled_400_AVE/w2c_baseline/5hGZVNAzZ1U...   \n",
       "\n",
       "                                     second_video_path  \\\n",
       "278  final_sampled_400_AVE/ours/5hGZVNAzZ1U_f5_ours...   \n",
       "\n",
       "                          first_video_uid  \\\n",
       "278  8e83b7d8-0faa-4c35-ac1a-d34ae51f3a3c   \n",
       "\n",
       "                         second_video_uid  \n",
       "278  afe75a39-7fe7-43da-a08e-1eeef3df49a1  "
      ]
     },
     "execution_count": 44,
     "metadata": {},
     "output_type": "execute_result"
    }
   ],
   "source": [
    "gt[gt['first_video_uid'] == '8e83b7d8-0faa-4c35-ac1a-d34ae51f3a3c']"
   ]
  },
  {
   "cell_type": "code",
   "execution_count": null,
   "id": "6fd0369e",
   "metadata": {},
   "outputs": [],
   "source": []
  }
 ],
 "metadata": {
  "kernelspec": {
   "display_name": "Python 3 (ipykernel)",
   "language": "python",
   "name": "python3"
  },
  "language_info": {
   "codemirror_mode": {
    "name": "ipython",
    "version": 3
   },
   "file_extension": ".py",
   "mimetype": "text/x-python",
   "name": "python",
   "nbconvert_exporter": "python",
   "pygments_lexer": "ipython3",
   "version": "3.9.7"
  }
 },
 "nbformat": 4,
 "nbformat_minor": 5
}
